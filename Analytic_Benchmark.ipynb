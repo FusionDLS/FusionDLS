{
 "cells": [
  {
   "cell_type": "code",
   "execution_count": 3,
   "id": "467d52da-e7f6-4285-9ce4-c4eb9144c34f",
   "metadata": {},
   "outputs": [],
   "source": [
    "from netCDF4 import Dataset\n",
    "import pandas as pd\n",
    "import numpy as np\n",
    "import matplotlib as mpl\n",
    "from DLScommonTools import *\n",
    "import os\n",
    "import pickle as pkl\n",
    "from scipy import interpolate\n",
    "import scipy as sp\n",
    "from Analytic_DLS import CfInt\n",
    "from LRBv21 import LRBv21\n",
    "\n",
    "\n",
    "# Here are some useful labels to use for plotting throughout notebook\n",
    "store_labels = dict()\n",
    "store_labels[\"cvar\"] = {\"density\" : \"$n_{u}\\ (m^{-3})$\",\n",
    "                        \"power\" : \"$q_{\\parallel}\\ (Wm^{-2})$\",\n",
    "                        \"impurity_frac\" : \"$f_{z}$\"}\n",
    "store_labels[\"crel\"] = {\"density\" : \"$n_{u}\\ /\\ n_{u0}$ $\\ (m^{-3})$\",\n",
    "                        \"power\" : \"$q_{\\parallel}\\ /\\ q_{\\parallel0} (Wm^{-2})$\",\n",
    "                        \"impurity_frac\" : \"$f_{z}\\ /\\ f_{z0}$\"}\n",
    "\n",
    "store_names =         {\"density\" : \"$n_{u}\\ /\\ n_{u0}$\",\n",
    "                        \"power\" : \"$q_{\\parallel0}\\ /\\ q_{\\parallel}$\",\n",
    "                        \"impurity_frac\" : \"$f_{z}\\ /\\ f_{z0}$\"}\n",
    "\n",
    "store_cnames =         {\"density\" : \"$[n_{u}\\ /\\ n_{u0}]^{1}$\",\n",
    "                        \"power\" : \"$[q_{\\parallel0}\\ /\\ q_{\\parallel}]^{5/7}$\",\n",
    "                        \"impurity_frac\" : \"$[f_{z}\\ /\\ f_{z0}]^{0.5}$\"}"
   ]
  },
  {
   "cell_type": "markdown",
   "id": "4b50d266-09e2-44c7-be4b-402eadc57d13",
   "metadata": {},
   "source": [
    "# Overview\n",
    "This notebook is a test to ensure the results from the numerical DLS model converge to the analytical results."
   ]
  },
  {
   "cell_type": "code",
   "execution_count": 4,
   "id": "10224251-fbdc-489b-9306-2888207ab0ff",
   "metadata": {},
   "outputs": [],
   "source": [
    "eqb = file_read(\"eqb_store_lores.pkl\")\n",
    "data = eqb[\"V10\"] "
   ]
  },
  {
   "cell_type": "code",
   "execution_count": 5,
   "id": "746d156d-17b2-4832-92ef-0fcf29e75a0b",
   "metadata": {},
   "outputs": [],
   "source": [
    "# results = dict()\n",
    "\n",
    "#set switches\n",
    "radios_default = {\n",
    "    \"ionisation\": False,  # WIP - do not use. in development\n",
    "    \"upstreamGrid\": True, # SET TRUE if including domain above xpoint. if true, source of divertor heat flux comes from radial transport upstream, and Tu is at the midplane. If false, heat flux simply enters at the x point as qi, and Tu is located at the x point. \n",
    "    \"fluxlim\": False,  # WIP - do not use. if true, turns on a flux limiter with coefficient alpha\n",
    "}\n",
    "\n",
    "#set general run parameters\n",
    "constants_default = {\n",
    "    \"gamma_sheath\": 7, #sheath transmittion coefficient for virtual target. Choice does not matter if Tt is low\n",
    "    \"Tt\": 1, # requested virtual target temp for calculating heat flux at detachment front. Aim for low (sub 1eV) Tt\n",
    "    \"qpllu0\": 5e9, # heat flux density at the x point\n",
    "    \"nu\" : 1e20, # Upstream density (if constant)\n",
    "    \"nu0\" : 1e20, # Upstream density (if constant)\n",
    "    \"cz0\" : 0.02, # Impurity fraction (if constant)\n",
    "    \n",
    "    \"Lfunc\": LfuncN, # impurity cooling function. More are available in AnalyticCoolingCurves.py\n",
    "    \"alpha\": 1000, # WIP - do not use. flux limiting alpha. Only matters if fluxlim is true\n",
    "}\n"
   ]
  },
  {
   "cell_type": "markdown",
   "id": "a2eb57c5-93b6-4748-8566-91d764c2963d",
   "metadata": {},
   "source": [
    "## Run the Numerical DLS and compare to analytical\n"
   ]
  },
  {
   "cell_type": "code",
   "execution_count": 6,
   "id": "a28db6c1-6bc1-4c4a-8cb1-c86316de1d74",
   "metadata": {},
   "outputs": [
    {
     "name": "stdout",
     "output_type": "stream",
     "text": [
      "Solving...0.00...0.52...1.04...1.56...2.08...2.59...3.11...3.63...4.15..."
     ]
    }
   ],
   "source": [
    "fig, ax = plt.subplots(1,1, figsize = (8,6))\n",
    "cvar = \"density\"\n",
    "design = \"V10\"\n",
    "side = \"ou\"\n",
    "results_DLS = []\n",
    "d = eqb[design][side].copy() # Load in single profile into dictionary \"d\"\n",
    "constants = constants_default.copy() # Set settings to default\n",
    "radios = radios_default.copy() # Set settings to default\n",
    "SparRange = np.linspace(0, d[\"S\"][d[\"Xpoint\"]-1], 30) # Solve at these parallel positions\n",
    "\n",
    "\n",
    "endresults = []\n",
    "\n",
    "for heatFlux in np.linspace(1E8,4E8,4):\n",
    "    constants[\"qpllu0\"] = heatFlux\n",
    "\n",
    "    results = LRBv21(constants, radios, d, SparRange, verbosity = 0, control_variable = cvar,Ttol=1E-5,Ctol=1E-5)\n",
    "    ax.plot(results[\"cvar\"]/results[\"cvar\"][0], results[\"Splot\"],label=\"q=\"+str(heatFlux)+\" [W]\")\n",
    "    endresults.append(results[\"cvar\"][-1]/results[\"cvar\"][0])\n",
    "\n",
    "\n",
    "resultsAnalytical = []\n",
    "for s in SparRange:\n",
    "\n",
    "    resultsAnalytical.append(CfInt(eqb[\"V10\"][\"ou\"][\"S\"], eqb[\"V10\"][\"ou\"][\"Btot\"],  eqb[\"V10\"][\"ou\"][\"Sx\"], np.max(eqb[\"V10\"][\"ou\"][\"S\"]),sh = s,kappa1=2500))\n",
    "\n",
    "ax.plot(resultsAnalytical/resultsAnalytical[0],SparRange,label=\"analytical\",linestyle=\"--\")\n",
    "ax.set_xlabel(\"$C_{rel}$\")\n",
    "ax.set_ylabel(\"$S_{||}\\ (m\\ from\\ target)$\")\n",
    "\n",
    "ax.legend()\n",
    "plt.show()\n"
   ]
  },
  {
   "cell_type": "markdown",
   "id": "20a82544",
   "metadata": {},
   "source": [
    "# Results\n",
    "\n",
    "The percentage error for the detachment window (Crel at the end of the scan) for these results should be:\n",
    "\n",
    "34.60772633  4.85038984  1.15382512 -0.29649834\n",
    "\n",
    "converging to the result\n",
    "\n",
    "2.1983038594840334\n"
   ]
  },
  {
   "cell_type": "code",
   "execution_count": null,
   "id": "c545ecc5",
   "metadata": {},
   "outputs": [
    {
     "name": "stdout",
     "output_type": "stream",
     "text": [
      "percentage error is [34.60772633  4.85038984  1.15382512 -0.29649834]\n"
     ]
    }
   ],
   "source": [
    "\n",
    "print(\"percentage error is\",100*(endresults-resultsAnalytical[-1]/resultsAnalytical[0])/endresults)\n"
   ]
  }
 ],
 "metadata": {
  "kernelspec": {
   "display_name": "Python 3 (ipykernel)",
   "language": "python",
   "name": "python3"
  },
  "language_info": {
   "codemirror_mode": {
    "name": "ipython",
    "version": 3
   },
   "file_extension": ".py",
   "mimetype": "text/x-python",
   "name": "python",
   "nbconvert_exporter": "python",
   "pygments_lexer": "ipython3",
   "version": "3.10.11"
  }
 },
 "nbformat": 4,
 "nbformat_minor": 5
}
